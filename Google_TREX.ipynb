{
 "cells": [
  {
   "cell_type": "code",
   "execution_count": null,
   "metadata": {},
   "outputs": [],
   "source": [
    "import numpy as np\n",
    "import cv2\n",
    "from mss import mss\n",
    "from PIL import Image\n",
    "import pyautogui"
   ]
  },
  {
   "cell_type": "code",
   "execution_count": null,
   "metadata": {},
   "outputs": [],
   "source": [
    "mon = {\"top\": 231, \"left\": 140, \"width\": 90, \"height\": 66}#area of interest on the screen\n",
    "\n",
    "k = 1\n",
    "while 1:\n",
    "    img = mss().grab(mon)  # capturing the screen shot\n",
    "    img = np.array(img)  # conveting the image to numpy arrays\n",
    "\n",
    "    cv2.imshow(\"Screen\", img)  # just displaying the image\n",
    "    p_cac = img[28, :, 0]  # storing the blue colour's value of all pixels from 28th pixel\n",
    "    p_bird = img[1, :, 0]  # storing the blue colour's value of all pixels from 1st pixel\n",
    "\n",
    "    # print (p_cac)\n",
    "    # print (p_bird)\n",
    "    p_cac_sum = np.sum(p_cac)  # sum of all the bule values at 28th position\n",
    "    p_bird_sum = np.sum(p_bird)\n",
    "    print(p_cac_sum)\n",
    "\n",
    "\n",
    "    if p_cac_sum < 21970:\n",
    "\n",
    "        pyautogui.press('up')\n",
    "\n",
    "    if p_bird_sum < 21970:\n",
    "\n",
    "        pyautogui.keyDown('up')\n",
    "    if cv2.waitKey(25) & 0xFF == ord('q'):\n",
    "\n",
    "        cv2.destroyAllWindows()\n",
    "        break"
   ]
  }
 ],
 "metadata": {
  "kernelspec": {
   "display_name": "DARKTRACE",
   "language": "python",
   "name": "darktrace"
  },
  "language_info": {
   "codemirror_mode": {
    "name": "ipython",
    "version": 3
   },
   "file_extension": ".py",
   "mimetype": "text/x-python",
   "name": "python",
   "nbconvert_exporter": "python",
   "pygments_lexer": "ipython3",
   "version": "3.7.3"
  }
 },
 "nbformat": 4,
 "nbformat_minor": 2
}
